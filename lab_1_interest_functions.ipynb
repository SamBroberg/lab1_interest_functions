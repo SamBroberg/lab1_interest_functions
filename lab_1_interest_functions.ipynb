{
  "nbformat": 4,
  "nbformat_minor": 0,
  "metadata": {
    "kernelspec": {
      "display_name": "Python 3",
      "language": "python",
      "name": "python3"
    },
    "language_info": {
      "codemirror_mode": {
        "name": "ipython",
        "version": 3
      },
      "file_extension": ".py",
      "mimetype": "text/x-python",
      "name": "python",
      "nbconvert_exporter": "python",
      "pygments_lexer": "ipython3",
      "version": "3.7.2"
    },
    "colab": {
      "name": "lab_1_interest_functions.ipynb",
      "provenance": [],
      "include_colab_link": true
    }
  },
  "cells": [
    {
      "cell_type": "markdown",
      "metadata": {
        "id": "view-in-github",
        "colab_type": "text"
      },
      "source": [
        "<a href=\"https://colab.research.google.com/github/SamBroberg/lab1_interest_functions/blob/master/lab_1_interest_functions.ipynb\" target=\"_parent\"><img src=\"https://colab.research.google.com/assets/colab-badge.svg\" alt=\"Open In Colab\"/></a>"
      ]
    },
    {
      "cell_type": "markdown",
      "metadata": {
        "id": "lcU6_uyxuyuK",
        "colab_type": "text"
      },
      "source": [
        "## Lab 1 - Compound Interest Functions\n",
        "\n",
        "Below you will find a table of important formulae related to compound interest.  \n",
        "\n",
        "<img src=\"https://www.dummies.com/wp-content/uploads/251689.image0.jpg\" alt=\"image0.jpg\" width=\"400\" height=\"319\">\n",
        "\n",
        "In this lab, you will create functions for each of these using (and documenting) the following workflow.\n",
        "\n",
        "1. Work out the correct answer for a few examples. *Hint* Search for e.g. \"worked out compound interest examples\" on the web.\n",
        "2. Write a `lambda` function and test this function on your test cases.\n",
        "3. Convert the `lambda` function to a `def` statement with an informative doc string that follows the [Google formating rules](https://google.github.io/styleguide/pyguide.html#383-functions-and-methods).\n",
        "4. Write an automated test function (using your previous examples) that will test your `def` statement function each time the code is executed."
      ]
    },
    {
      "cell_type": "markdown",
      "metadata": {
        "id": "4sMFqcVAuyuM",
        "colab_type": "text"
      },
      "source": [
        "#### Problem 1 -- Apply the process to create a simple interest functions."
      ]
    },
    {
      "cell_type": "code",
      "metadata": {
        "id": "D_sOlKKHuyuO",
        "colab_type": "code",
        "colab": {
          "base_uri": "https://localhost:8080/",
          "height": 34
        },
        "outputId": "b5168e53-9761-41b3-c8a9-d659ee175979"
      },
      "source": [
        "Simple_Interest = lambda p, r, t: p*t*(1+r)\n",
        "Simple_Interest(1000, .05, 10)"
      ],
      "execution_count": 51,
      "outputs": [
        {
          "output_type": "execute_result",
          "data": {
            "text/plain": [
              "10500.0"
            ]
          },
          "metadata": {
            "tags": []
          },
          "execution_count": 51
        }
      ]
    },
    {
      "cell_type": "code",
      "metadata": {
        "id": "b-KiD-8E9uyb",
        "colab_type": "code",
        "colab": {
          "base_uri": "https://localhost:8080/",
          "height": 34
        },
        "outputId": "826c46d0-bdcf-4693-e62d-25abe36db458"
      },
      "source": [
        "1000*.05*10\n",
        "200*.1*10"
      ],
      "execution_count": 53,
      "outputs": [
        {
          "output_type": "execute_result",
          "data": {
            "text/plain": [
              "200.0"
            ]
          },
          "metadata": {
            "tags": []
          },
          "execution_count": 53
        }
      ]
    },
    {
      "cell_type": "code",
      "metadata": {
        "id": "YoOEHE85vmOF",
        "colab_type": "code",
        "colab": {}
      },
      "source": [
        "def Simple_Interest (p, r, t):\n",
        "    \"\"\" This function calculates simple interest.\n",
        "\n",
        "    Args: p: a number as principle\n",
        "          r: a number as rate\n",
        "          t: a number as time\n",
        "    Returns: a number that is simple interest on a principle with\n",
        "     t years and rate r \n",
        "    \"\"\"\n",
        "    output = p*t*r\n",
        "    return output\n",
        "def test_Simple_Interest():\n",
        "  assert Simple_Interest(1000,.05,10) == 500.0\n",
        "  assert Simple_Interest(200,.1,10) == 200.0\n",
        "test_Simple_Interest()\n",
        "\n",
        "    "
      ],
      "execution_count": 54,
      "outputs": []
    },
    {
      "cell_type": "markdown",
      "metadata": {
        "id": "_DgvcHYbuyuc",
        "colab_type": "text"
      },
      "source": [
        "#### Problem 2 -- Apply the process to create a compound interest functions."
      ]
    },
    {
      "cell_type": "code",
      "metadata": {
        "id": "WmQcHjfGuyue",
        "colab_type": "code",
        "colab": {
          "base_uri": "https://localhost:8080/",
          "height": 34
        },
        "outputId": "5aa58e5b-b707-4256-f664-9933c83505a1"
      },
      "source": [
        "Compound_Interest = lambda p,r,n,t: p*((1+(r/n))**(n*t))\n",
        "Compound_Interest(100,.08,12,5)"
      ],
      "execution_count": 12,
      "outputs": [
        {
          "output_type": "execute_result",
          "data": {
            "text/plain": [
              "148.9845708301605"
            ]
          },
          "metadata": {
            "tags": []
          },
          "execution_count": 12
        }
      ]
    },
    {
      "cell_type": "code",
      "metadata": {
        "id": "2bUwIKV3zh7s",
        "colab_type": "code",
        "colab": {
          "base_uri": "https://localhost:8080/",
          "height": 34
        },
        "outputId": "7b6ecb67-3727-4b95-e391-493b1bfd40d4"
      },
      "source": [
        "Compound_Interest(1,.1,1,1)"
      ],
      "execution_count": 13,
      "outputs": [
        {
          "output_type": "execute_result",
          "data": {
            "text/plain": [
              "1.1"
            ]
          },
          "metadata": {
            "tags": []
          },
          "execution_count": 13
        }
      ]
    },
    {
      "cell_type": "code",
      "metadata": {
        "id": "VsCbZordym8y",
        "colab_type": "code",
        "colab": {}
      },
      "source": [
        "def Compound_Interest(p,r,n,t):\n",
        "    \"\"\" computes compound interest\n",
        "\n",
        "    Args: p: principle as number\n",
        "          r: rate as number\n",
        "          n: number of periods as number\n",
        "          t: time as number\n",
        "\n",
        "    returns: returns the final value with compounded interest\n",
        "            added on.\n",
        "    \"\"\"\n",
        "    output = p*((1+(r/n))**(n*t))\n",
        "    return output\n",
        "def test_Compound_Interest():\n",
        "  assert Compound_Interest(100,.08,12,5)== 148.9845708301605\n",
        "  Compound_Interest(1,.1,1,1) == 1.1\n",
        "test_Compound_Interest()\n"
      ],
      "execution_count": 15,
      "outputs": []
    },
    {
      "cell_type": "markdown",
      "metadata": {
        "id": "hKygaFXcuyuo",
        "colab_type": "text"
      },
      "source": [
        "#### Problem 3 -- Apply the process to create a amortized loan payment function."
      ]
    },
    {
      "cell_type": "code",
      "metadata": {
        "id": "Rhd1mzoouyuq",
        "colab_type": "code",
        "colab": {
          "base_uri": "https://localhost:8080/",
          "height": 34
        },
        "outputId": "4b04b121-537a-4f7f-9db6-bed74c14904a"
      },
      "source": [
        "Amortized_Payment = lambda p,i,n: (p*i)/(1-(1+i)**-n)\n",
        "Amortized_Payment(1000,.05,10)"
      ],
      "execution_count": 50,
      "outputs": [
        {
          "output_type": "execute_result",
          "data": {
            "text/plain": [
              "129.5045749654566"
            ]
          },
          "metadata": {
            "tags": []
          },
          "execution_count": 50
        }
      ]
    },
    {
      "cell_type": "code",
      "metadata": {
        "id": "fHKtLrsj1Udd",
        "colab_type": "code",
        "colab": {
          "base_uri": "https://localhost:8080/",
          "height": 34
        },
        "outputId": "86b71050-6393-4ec1-9ce3-8c8162c20129"
      },
      "source": [
        "Amortized_Payment(500,.02,10)"
      ],
      "execution_count": 49,
      "outputs": [
        {
          "output_type": "execute_result",
          "data": {
            "text/plain": [
              "55.663263932658175"
            ]
          },
          "metadata": {
            "tags": []
          },
          "execution_count": 49
        }
      ]
    },
    {
      "cell_type": "code",
      "metadata": {
        "id": "e7PFOayd0t0_",
        "colab_type": "code",
        "colab": {}
      },
      "source": [
        "def Amortized_Payment(p,i,n):\n",
        "    \"\"\" computes the Amortized payment of a loan\n",
        "\n",
        "    Args: p: amount borrowed as number\n",
        "          i: interest as number\n",
        "          n: number of payments as number\n",
        "\n",
        "    Returns: returns the effective interest rate as decimal\n",
        "    \"\"\"\n",
        "    output = (p*i)/(1-(1+i)**-n)\n",
        "    return output\n",
        "def test_Amortized_Payment():\n",
        "  assert Amortized_Payment(1000,.05,10) == 129.5045749654566\n",
        "  assert Amortized_Payment(500,.02,10) == 55.663263932658175\n",
        "test_Amortized_Payment()"
      ],
      "execution_count": 34,
      "outputs": []
    },
    {
      "cell_type": "markdown",
      "metadata": {
        "id": "vKiFQmU0uyuy",
        "colab_type": "text"
      },
      "source": [
        "#### Problem 4 -- Apply the process to create a remaining balance function"
      ]
    },
    {
      "cell_type": "code",
      "metadata": {
        "colab_type": "code",
        "id": "NClfiYSj3gRF",
        "colab": {
          "base_uri": "https://localhost:8080/",
          "height": 34
        },
        "outputId": "3ba09996-0d33-4b12-88ac-33d9e8608fde"
      },
      "source": [
        "Remaining_Balance = lambda r,i,n,x: r*((1-(1+i)**-(n-x))/i)\n",
        "Remaining_Balance(250,.02,10,4)"
      ],
      "execution_count": 48,
      "outputs": [
        {
          "output_type": "execute_result",
          "data": {
            "text/plain": [
              "1400.3577226726002"
            ]
          },
          "metadata": {
            "tags": []
          },
          "execution_count": 48
        }
      ]
    },
    {
      "cell_type": "code",
      "metadata": {
        "id": "6VhUriXU4_Qt",
        "colab_type": "code",
        "colab": {
          "base_uri": "https://localhost:8080/",
          "height": 34
        },
        "outputId": "95e35ae1-16b2-4d68-a07d-df9710471213"
      },
      "source": [
        "Remaining_Balance(100, .05,25,5)"
      ],
      "execution_count": 47,
      "outputs": [
        {
          "output_type": "execute_result",
          "data": {
            "text/plain": [
              "1246.2210342539993"
            ]
          },
          "metadata": {
            "tags": []
          },
          "execution_count": 47
        }
      ]
    },
    {
      "cell_type": "code",
      "metadata": {
        "id": "QplSh26t4lKC",
        "colab_type": "code",
        "colab": {}
      },
      "source": [
        "def Remaining_Balance(r,i,n,x):\n",
        "    \"\"\" Computes the remaining balance of a debt.\n",
        "\n",
        "    Args: r: regular payment as number\n",
        "          i: interest rate as number\n",
        "          n: number of payments as number\n",
        "          x: payments already made as number\n",
        "\n",
        "    Returns: returns the value that is left to be paid.\n",
        "    \"\"\"\n",
        "    output = r*((1-(1+i)**-(n-x))/i)\n",
        "    return output\n",
        "def test_Remaining_Balance():\n",
        "  assert Remaining_Balance(250,.02,10,4) == 1400.3577226726002\n",
        "  assert Remaining_Balance(100,.05,25,5) == 1246.2210342539993\n",
        "test_Remaining_Balance()\n"
      ],
      "execution_count": 46,
      "outputs": []
    }
  ]
}